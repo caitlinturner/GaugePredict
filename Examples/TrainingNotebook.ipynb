{
 "cells": [
  {
   "cell_type": "code",
   "execution_count": null,
   "metadata": {},
   "outputs": [],
   "source": [
    "import numpy as np\n",
    "import torch\n",
    "from predict import GaugeDataModel, Trainer, CNN_LSTM\n",
    "from sklearn.metrics import r2_score\n"
   ],
   "id": "29b7d1e9-de01-455c-bc54-ad8de9d0e60d"
  },
  {
   "cell_type": "code",
   "execution_count": null,
   "metadata": {},
   "outputs": [],
   "source": [
    "data_files = [{'path': 'site_dict.json',\n",
    "               'conversion_factor': 0.0283168466,\n",
    "               'data_key': 'discharge'}]\n",
    "target_site = \"07374000\"\n",
    "start_date = \"2010-01-01\"\n",
    "end_date = \"2025-01-01\"\n",
    "tz=\"UTC\"\n",
    "sequence_length = 90\n",
    "forecast_horizon = 15\n",
    "cutoff_date = np.datetime64('2020-01-01')\n",
    "na_filter = 0.25\n",
    "conversion_factor = 0.0283168466\n",
    "epochs = 100\n"
   ],
   "id": "14e5e0a6-0153-4aa3-a8ec-59088ace9a4b"
  },
  {
   "cell_type": "code",
   "execution_count": null,
   "metadata": {},
   "outputs": [],
   "source": [
    "gdm = GaugeDataModel(data_files,\n",
    "                     target_site,\n",
    "                     start_date,\n",
    "                     end_date,\n",
    "                     tz,\n",
    "                     sequence_length,\n",
    "                     forecast_horizon,\n",
    "                     cutoff_date,\n",
    "                     )\n",
    "#+begin_src jupyter-python\n",
    "gdm = GaugeDataModel(data_files,\n",
    "                     target_site,\n",
    "                     start_date,\n",
    "                     end_date,\n",
    "                     tz,\n",
    "                     sequence_length,\n",
    "                     forecast_horizon,\n",
    "                     cutoff_date,\n",
    "                     )\n"
   ],
   "id": "5d4b4763-3185-4df1-a701-c55666b60278"
  },
  {
   "cell_type": "code",
   "execution_count": null,
   "metadata": {},
   "outputs": [],
   "source": [
    "model = CNN_LSTM(gdm.train_dataset.input_channels, sequence_length)\n",
    "optimizer = torch.optim.Adam(model.parameters(), lr=1.15e-6, weight_decay=0.5e-4)\n",
    "criterion = torch.nn.MSELoss()\n"
   ],
   "id": "7ba57964-08cf-4b31-b310-94d9a330ae6d"
  },
  {
   "cell_type": "code",
   "execution_count": null,
   "metadata": {},
   "outputs": [],
   "source": [
    "trainer = Trainer(model, gdm, gdm.scaler_y, criterion, optimizer)\n",
    "trainer.fit(epochs)\n"
   ],
   "id": "a4cf3bc8-bbde-4f9d-82f8-30b1acae62b2"
  },
  {
   "cell_type": "code",
   "execution_count": null,
   "metadata": {},
   "outputs": [],
   "source": [
    "fig, axs = plt.subplots(1, len(trainer.history.keys()))\n",
    "for i, (key, values) in enumerate(trainer.history.items()):\n",
    "    axs[i].plot(values)\n",
    "    axs[i].set_title(key)\n"
   ],
   "id": "297dafd3-8225-4cb4-9f7a-dff1fa7d2138"
  }
 ],
 "nbformat": 4,
 "nbformat_minor": 5,
 "metadata": {}
}
