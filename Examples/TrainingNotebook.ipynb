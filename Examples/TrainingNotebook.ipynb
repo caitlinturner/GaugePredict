{
 "cells": [
  {
   "cell_type": "code",
   "execution_count": null,
   "metadata": {},
   "outputs": [],
   "source": [
    "import numpy as np\n",
    "import torch\n",
    "from predict import GaugeDataModel, Trainer, CNN_LSTM\n",
    "from sklearn.metrics import r2_score\n",
    "from matplotlib.pyplot import plt\n"
   ],
   "id": "4a33894f-d2cb-40a2-a6d2-b8b9239421b7"
  },
  {
   "cell_type": "code",
   "execution_count": null,
   "metadata": {},
   "outputs": [],
   "source": [
    "data_files = [{'path': 'site_dict.json',\n",
    "               'conversion_factor': 0.0283168466,\n",
    "               'data_key': 'discharge'}]\n",
    "target_site = \"07374000\"\n",
    "start_date = \"2010-01-01\"\n",
    "end_date = \"2025-01-01\"\n",
    "tz=\"UTC\"\n",
    "sequence_length = 90\n",
    "forecast_horizon = 15\n",
    "cutoff_date = np.datetime64('2020-01-01')\n",
    "na_filter = 0.25\n",
    "conversion_factor = 0.0283168466\n",
    "epochs = 100\n"
   ],
   "id": "0fd55165-fdbb-488d-99be-f126cca49e98"
  },
  {
   "cell_type": "code",
   "execution_count": null,
   "metadata": {},
   "outputs": [],
   "source": [
    "gdm = GaugeDataModel(data_files,\n",
    "                     target_site,\n",
    "                     start_date,\n",
    "                     end_date,\n",
    "                     tz,\n",
    "                     sequence_length,\n",
    "                     forecast_horizon,\n",
    "                     cutoff_date,\n",
    "                     )\n"
   ],
   "id": "052a21c5-8754-498a-92a3-05af9034d8ec"
  },
  {
   "cell_type": "code",
   "execution_count": null,
   "metadata": {},
   "outputs": [],
   "source": [
    "gdm.setup()\n"
   ],
   "id": "ecb6f21b-5ea8-404c-bf35-5a9b55557d4e"
  },
  {
   "cell_type": "code",
   "execution_count": null,
   "metadata": {},
   "outputs": [],
   "source": [
    "model = CNN_LSTM(gdm.train_dataset.input_channels, sequence_length)\n",
    "optimizer = torch.optim.Adam(model.parameters(), lr=1.15e-6, weight_decay=0.5e-4)\n",
    "criterion = torch.nn.MSELoss()\n"
   ],
   "id": "a954dfd7-5f46-473e-adec-6d2a2286b8bb"
  },
  {
   "cell_type": "code",
   "execution_count": null,
   "metadata": {},
   "outputs": [],
   "source": [
    "trainer = Trainer(model, gdm, gdm.scaler_y, criterion, optimizer)\n",
    "trainer.fit(epochs)\n"
   ],
   "id": "83d3e1e0-9e4c-4fef-9b05-2d047aad57a0"
  },
  {
   "cell_type": "code",
   "execution_count": null,
   "metadata": {},
   "outputs": [],
   "source": [
    "fig, axs = plt.subplots(1, len(trainer.history.keys()), figsize=(20,5))\n",
    "for i, (key, values) in enumerate(trainer.history.items()):\n",
    "    axs[i].plot(values)\n",
    "    axs[i].set_title(key)\n",
    "    axs[i].set_x_label('Epoch')\n"
   ],
   "id": "334d219c-4e5e-4991-aa3f-a7b8406c4b6c"
  }
 ],
 "nbformat": 4,
 "nbformat_minor": 5,
 "metadata": {}
}
