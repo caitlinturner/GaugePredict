{
 "cells": [
  {
   "cell_type": "markdown",
   "id": "1bd396e6-2791-49a7-9dbb-077013ee5d78",
   "metadata": {},
   "source": [
    "# GaugePredict Data Downloader\n",
    "\n",
    "This is a tool to download discharge data "
   ]
  },
  {
   "cell_type": "markdown",
   "id": "b84c4550-a35d-42ef-9aca-ec193cc1fa72",
   "metadata": {},
   "source": [
    "#### Download Packages"
   ]
  },
  {
   "cell_type": "code",
   "execution_count": null,
   "id": "cc8dd0f4-88ac-40d7-b910-e7e3526d72ff",
   "metadata": {},
   "outputs": [],
   "source": [
    "import os\n",
    "os.chdir(r\"C:\\Users\\cturn\\Documents\\CSDMS\\GaugePredict\\GaugePredict\")\n",
    "import sys\n",
    "import json\n",
    "from pathlib import Path\n",
    "import pandas as pd\n",
    "import geopandas as gpd\n",
    "import numpy as np\n",
    "from matplotlib import pyplot as plt\n",
    "import matplotlib.patches as mpatches\n",
    "import cmocean \n",
    "import contextily as ctx\n",
    "from dataretrieval import nwis\n",
    "from GaugePredict.routines import plot_hucs\n",
    "import GaugePredict.downloader_test\n",
    "from GaugePredict.routines import compute_discharge_stats, plot_discharge_panels\n",
    "import warnings\n",
    "warnings.filterwarnings(\"ignore\")"
   ]
  },
  {
   "cell_type": "markdown",
   "id": "9d66ce22-f948-4cee-a80a-edd974ce27e2",
   "metadata": {},
   "source": [
    "Upload shape files:\n",
    "\n",
    "Basin boundaries USGS: https://www.usgs.gov/national-hydrography/access-national-hydrography-products\n",
    "\n",
    "You will want to download your basins of interest"
   ]
  },
  {
   "cell_type": "markdown",
   "id": "67d35df1-fd7e-4257-9f58-f70fa0aee1ff",
   "metadata": {},
   "source": [
    "Lets Look at all Hydrological Unit Code (HUC) Zones in the Continental United States (CONUS) and Alaska"
   ]
  },
  {
   "cell_type": "code",
   "execution_count": null,
   "id": "16fe335a-ca39-4323-bcc7-7b5ec4a7be5e",
   "metadata": {},
   "outputs": [],
   "source": [
    "fig, ax = plot_hucs(\n",
    "    base_dir=\"Examples/shapefiles/HUC_Zones\",\n",
    "    states_fp=\"Examples/shapefiles/US_STATES/tl_2023_us_state.shp\",\n",
    "    include_ak=True,\n",
    "    figsize=(8, 6),\n",
    "    basemap=True)\n"
   ]
  },
  {
   "cell_type": "markdown",
   "id": "6b68ab32-a9f7-444b-99ea-d27ec9d82c7e",
   "metadata": {},
   "source": [
    "### Determine HUC zones\n",
    "For this, we are interested in the HUC zones within the Mississippi River Basin (MSRB), so lets look in the CONUS."
   ]
  },
  {
   "cell_type": "code",
   "execution_count": null,
   "id": "712365d1-778d-4756-b1c4-7b03761a24b3",
   "metadata": {},
   "outputs": [],
   "source": [
    "fig, ax = plot_hucs(base_dir=\"Examples/shapefiles/HUC_Zones\", states_fp=\"Examples/shapefiles/US_STATES/tl_2023_us_state.shp\",\n",
    "    include_ak=False, figsize=(6, 4), basemap=True)\n"
   ]
  },
  {
   "cell_type": "markdown",
   "id": "764ee632-38f2-4bc0-9848-9fe5ea69937a",
   "metadata": {},
   "source": [
    "We want to see which HUC zones impact the MSR basin, so we are going to overlay the shape file of our basin on the figure we created above."
   ]
  },
  {
   "cell_type": "code",
   "execution_count": null,
   "id": "432e4ea4-ee72-4d0d-85c5-61cdbce0aa65",
   "metadata": {},
   "outputs": [],
   "source": [
    "# Overlay basin on plot\n",
    "fig, ax = plot_hucs(\n",
    "    base_dir=\"Examples/shapefiles/HUC_Zones\",\n",
    "    states_fp=\"Examples/shapefiles/US_STATES/tl_2023_us_state.shp\",\n",
    "    include_ak=False,\n",
    "    figsize=(6, 4),\n",
    "    basemap=True)\n",
    "\n",
    "basin = gpd.read_file(\"Examples/shapefiles/MSRB/Miss_RiverBasin.shp\")\n",
    "basin = basin if basin.crs.to_epsg() == 3857 else basin.to_crs(3857)\n",
    "basin.plot(ax=ax, facecolor=cmocean.cm.ice(0.3), edgecolor=\"darkblue\", alpha=0.6, zorder=4)\n",
    "legend = ax.legend(handles=[mpatches.Patch(facecolor=cmocean.cm.ice(0.3), edgecolor=\"darkblue\", alpha=0.6,\n",
    "                            label=\"Mississippi River Basin\")],frameon=False, fontsize=14)"
   ]
  },
  {
   "cell_type": "markdown",
   "id": "88ab3533-194b-433b-880a-de27e5ffa4de",
   "metadata": {},
   "source": [
    "We can see that the HUC zones 05, 06, 07, 08, 10, and 11 are within the Mississippi River Basin. We are additionally going to add HUC zones 04, 09, 14, and 17 due to their proximity to the basin. Discharge on the Mississippi River is influenced by snow melt. Zones 04, 09, 14, and 17 are where we can see this influence."
   ]
  },
  {
   "cell_type": "code",
   "execution_count": null,
   "id": "b4abe558-6fea-43eb-8c4f-a6368d40ae73",
   "metadata": {},
   "outputs": [],
   "source": [
    "huc_codes = [\"04\", \"05\", \"06\", \"07\", \"08\", \"09\", \"10\", \"11\", \"14\", \"17\"]"
   ]
  },
  {
   "cell_type": "markdown",
   "id": "c0debfd4-96a2-49e0-9942-dbe8fb2bbbd0",
   "metadata": {},
   "source": [
    "We want to predict discharge. "
   ]
  },
  {
   "cell_type": "markdown",
   "id": "bb3d472e-2f9b-4cbe-8363-14812d2c4299",
   "metadata": {},
   "source": [
    "Select target gauge \\\n",
    "For this case, we are interested in Baton Rouge. \\\n",
    "Lets download and inspect this data."
   ]
  },
  {
   "cell_type": "markdown",
   "id": "9ee6c834-bf82-4e9d-9a70-30bd91293f9e",
   "metadata": {},
   "source": [
    "We want to set start and end dates based on our target site's available data"
   ]
  },
  {
   "cell_type": "markdown",
   "id": "f4fa4a59-b311-4f6f-90dd-1cdd59bf3938",
   "metadata": {},
   "source": [
    "Here we can choose what units we want\n",
    "\n",
    "The options are `metric` and `customary`"
   ]
  },
  {
   "cell_type": "markdown",
   "id": "656c49b3-0622-4883-96d8-890f996cb5ac",
   "metadata": {},
   "source": [
    "Lets download the target site data"
   ]
  },
  {
   "cell_type": "code",
   "execution_count": null,
   "id": "43a0b9e3-255d-4c32-b256-46c2d748d0bd",
   "metadata": {},
   "outputs": [],
   "source": [
    "parameter = \"discharge\"\n",
    "parameter_code = \"00060\"\n",
    "target_site = \"07374000\"\n",
    "start_date, end_date = \"2005-01-02\", \"2024-12-31\"\n",
    "\n",
    "df = nwis.get_dv(sites=target_site, parameterCd=parameter_code,\n",
    "                 start=start_date, end=end_date)[0]\n",
    "\n",
    "target = df[\"00060_Mean\"] * 0.0283168466\n",
    "target.index = pd.to_datetime(target.index).tz_localize(\"UTC\") if target.index.tz is None else target.index.tz_convert(\"UTC\")\n",
    "\n",
    "filled = (target.reindex(pd.date_range(start=start_date, end=end_date))\n",
    "                .tz_localize(\"UTC\")\n",
    "                .interpolate(limit_direction=\"both\")\n",
    "                .ffill().bfill())"
   ]
  },
  {
   "cell_type": "markdown",
   "id": "5f0e4ac1-ae53-4f89-81f2-ff31f5e86c9a",
   "metadata": {},
   "source": [
    "Lets do some stats for the Target Site"
   ]
  },
  {
   "cell_type": "code",
   "execution_count": null,
   "id": "40758c83-b48c-4875-8d42-6c90e5ca1d51",
   "metadata": {},
   "outputs": [],
   "source": [
    "stats, s, v, q = compute_discharge_stats(target, start_date, end_date, tz=\"UTC\")\n",
    "fig, axes = plot_discharge_panels(s, v, q, opening_threshold=35400.0, y_max=46000, figsize=(7, 7), dpi=300)"
   ]
  },
  {
   "cell_type": "markdown",
   "id": "107fe0fb-d10d-4e33-91f1-02c97609104b",
   "metadata": {},
   "source": [
    "Explain stats analysis of data for target site at Baton Rouge"
   ]
  },
  {
   "cell_type": "markdown",
   "id": "51785277-7a9b-40ea-b366-2828eca51177",
   "metadata": {},
   "source": [
    "We want this data to be as complete as possible. Here we are going to set a `percent_threshold`. We set this to `percent_threshold = 99`, meaning that the data set is 99% complete."
   ]
  },
  {
   "cell_type": "code",
   "execution_count": null,
   "id": "9cf6eaf5-0114-40cb-aed3-a28756c0f615",
   "metadata": {},
   "outputs": [],
   "source": [
    "percent_threshold = 99"
   ]
  },
  {
   "cell_type": "markdown",
   "id": "3b9a910c-f596-4db7-b5f9-fd716e222da7",
   "metadata": {},
   "source": [
    "Now we are going to set where we want the data to save to."
   ]
  },
  {
   "cell_type": "code",
   "execution_count": null,
   "id": "4027bdd6-fffd-4459-9a1d-837f89232f67",
   "metadata": {},
   "outputs": [],
   "source": [
    "data_dir = Path(f\"cached_data_{parameter}\")\n",
    "json_path = data_dir / f\"site_dict_{parameter}.json\""
   ]
  },
  {
   "cell_type": "markdown",
   "id": "58d92cf9-f0f0-49c3-b460-881e2b8b6ad6",
   "metadata": {},
   "source": [
    "Download data. (This will get changed with a function)\\\n",
    "Explain what is happening to data set, inputs, outputs, etc.\n",
    "\n",
    "We are going to predict discharge at our taret site with discharge data from the huc zones we selected\n",
    "Other parameters can be entered. A list of parameters that USGS has can be found here {add}\n",
    "\n",
    "This part of the code takes a while since we are scraping data."
   ]
  },
  {
   "cell_type": "code",
   "execution_count": null,
   "id": "45b25a74-cbdf-4ef4-8959-be3a2f2c4b0b",
   "metadata": {},
   "outputs": [],
   "source": [
    "data_dir = Path(f\"cached_data_{parameter}\")\n",
    "json_path = data_dir / f\"site_dict_{parameter}.json\"\n",
    "#to_units = \"metric\"  \n",
    "#paramter_code = \"00060\" \n",
    "#summary = GaugebyHUC(\n",
    "#    start_date=start_date,\n",
    "#    end_date=end_date,\n",
    "#    huc_codes=huc_codes,\n",
    "#    parameter_code=paramter_code, \n",
    "#    percent_threshold=percent_threshold,\n",
    "#    data_dir=data_dir,\n",
    "#    json_path=json_path,)"
   ]
  },
  {
   "cell_type": "markdown",
   "id": "327bc45f-d83d-417b-bdc1-25b92542f3f3",
   "metadata": {},
   "source": [
    "Import Data"
   ]
  },
  {
   "cell_type": "code",
   "execution_count": null,
   "id": "b2f6624c-01f6-43cc-8e9f-24bcca25be37",
   "metadata": {},
   "outputs": [],
   "source": [
    "from pathlib import Path\n",
    "import json\n",
    "import pandas as pd\n",
    "\n",
    "parameter = \"discharge\"\n",
    "data_dir = Path(f\"Examples/cached_data_{parameter}\")\n",
    "json_path = data_dir / f\"site_dict_{parameter}.json\"\n",
    "\n",
    "# Load the site dictionary (metadata about cached sites)\n",
    "with open(json_path, \"r\") as f:\n",
    "    site_dict = json.load(f)\n",
    "\n",
    "\n",
    "\n",
    "# If you want to summarize by HUC codes:\n",
    "# This assumes GaugebyHUC reads from these same cached files,\n",
    "# so you can call your function directly if you want a summary\n",
    "# summary = GaugebyHUC(\n",
    "#     start_date=start_date,\n",
    "#     end_date=end_date,\n",
    "#     huc_codes=huc_codes,\n",
    "#     parameter_code=\"00060\", \n",
    "#     percent_threshold=percent_threshold,\n",
    "#     data_dir=data_dir,\n",
    "#     json_path=json_path,\n",
    "# )\n"
   ]
  },
  {
   "cell_type": "markdown",
   "id": "24bc3a32-3ff0-4787-9c87-871ff85fc4b8",
   "metadata": {},
   "source": [
    "CNN Model? Or put in second notebook"
   ]
  },
  {
   "cell_type": "code",
   "execution_count": null,
   "id": "80d88c41-09fa-4c3e-8c59-0e7c7e4bcac3",
   "metadata": {},
   "outputs": [],
   "source": [
    "# daily index\n",
    "idx = build_full_index(start_date, end_date, tz=\"UTC\")\n",
    "\n",
    "# load json of candidate sites (whatever your generator produced)\n",
    "raw = load_site_json(json_path )    \n",
    "\n",
    "# build site series from json\n",
    "site_series = build_site_series_from_json(raw, idx, parameter = parameter, to_units=to_units)\n",
    "\n",
    "# fetch target site directly from nwis\n",
    "target = load_target_series(\n",
    "    target_site=target_site,\n",
    "    start_date=start_date,\n",
    "    end_date=end_date,\n",
    "    parameter=parameter,\n",
    "    to_units=to_units,\n",
    ")\n",
    "\n",
    "# assemble features\n",
    "x_raw, y, names = stack_features(site_series, target)\n",
    "x_raw.shape, y.shape, names[:5]"
   ]
  },
  {
   "cell_type": "code",
   "execution_count": null,
   "id": "c8fae7b6-8143-4c9e-8259-c4e42fb3ee5a",
   "metadata": {},
   "outputs": [],
   "source": []
  }
 ],
 "metadata": {
  "kernelspec": {
   "display_name": "Python [conda env:GaugePredict]",
   "language": "python",
   "name": "conda-env-GaugePredict-py"
  },
  "language_info": {
   "codemirror_mode": {
    "name": "ipython",
    "version": 3
   },
   "file_extension": ".py",
   "mimetype": "text/x-python",
   "name": "python",
   "nbconvert_exporter": "python",
   "pygments_lexer": "ipython3",
   "version": "3.11.13"
  }
 },
 "nbformat": 4,
 "nbformat_minor": 5
}
